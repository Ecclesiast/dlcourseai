{
  "nbformat": 4,
  "nbformat_minor": 0,
  "metadata": {
    "accelerator": "GPU",
    "colab": {
      "name": "PyTorch_CNN.ipynb",
      "provenance": [],
      "collapsed_sections": [],
      "toc_visible": true
    },
    "kernelspec": {
      "display_name": "Python 3",
      "language": "python",
      "name": "python3"
    },
    "language_info": {
      "codemirror_mode": {
        "name": "ipython",
        "version": 3
      },
      "file_extension": ".py",
      "mimetype": "text/x-python",
      "name": "python",
      "nbconvert_exporter": "python",
      "pygments_lexer": "ipython3",
      "version": "3.7.0"
    }
  },
  "cells": [
    {
      "cell_type": "markdown",
      "metadata": {
        "id": "Qcty3_NRDIuU",
        "colab_type": "text"
      },
      "source": [
        "# Задание 3.2 - сверточные нейронные сети (CNNs) в PyTorch\n",
        "\n",
        "Это упражнение мы буде выполнять в Google Colab - https://colab.research.google.com/  \n",
        "Google Colab позволяет запускать код в notebook в облаке Google, где можно воспользоваться бесплатным GPU!  \n",
        "\n",
        "Авторы курса благодарят компанию Google и надеятся, что праздник не закончится.\n",
        "\n",
        "Туториал по настройке Google Colab:  \n",
        "https://medium.com/deep-learning-turkey/google-colab-free-gpu-tutorial-e113627b9f5d  \n",
        "(Keras инсталлировать не нужно, наш notebook сам установит PyTorch)\n"
      ]
    },
    {
      "cell_type": "code",
      "metadata": {
        "colab_type": "code",
        "id": "FcXBeP1O7cnY",
        "colab": {
          "base_uri": "https://localhost:8080/",
          "height": 323
        },
        "outputId": "84e76d84-aee9-4090-9910-909d68ef27a3"
      },
      "source": [
        "# Intstall PyTorch and download data\n",
        "!pip3 install torch torchvision\n",
        "\n",
        "!wget -c http://ufldl.stanford.edu/housenumbers/train_32x32.mat http://ufldl.stanford.edu/housenumbers/test_32x32.mat"
      ],
      "execution_count": 10,
      "outputs": [
        {
          "output_type": "stream",
          "text": [
            "Requirement already satisfied: torch in /usr/local/lib/python3.6/dist-packages (1.5.1+cu101)\n",
            "Requirement already satisfied: torchvision in /usr/local/lib/python3.6/dist-packages (0.6.1+cu101)\n",
            "Requirement already satisfied: numpy in /usr/local/lib/python3.6/dist-packages (from torch) (1.18.5)\n",
            "Requirement already satisfied: future in /usr/local/lib/python3.6/dist-packages (from torch) (0.16.0)\n",
            "Requirement already satisfied: pillow>=4.1.1 in /usr/local/lib/python3.6/dist-packages (from torchvision) (7.0.0)\n",
            "--2020-07-13 17:55:21--  http://ufldl.stanford.edu/housenumbers/train_32x32.mat\n",
            "Resolving ufldl.stanford.edu (ufldl.stanford.edu)... 171.64.68.10\n",
            "Connecting to ufldl.stanford.edu (ufldl.stanford.edu)|171.64.68.10|:80... connected.\n",
            "HTTP request sent, awaiting response... 416 Requested Range Not Satisfiable\n",
            "\n",
            "    The file is already fully retrieved; nothing to do.\n",
            "\n",
            "--2020-07-13 17:55:21--  http://ufldl.stanford.edu/housenumbers/test_32x32.mat\n",
            "Reusing existing connection to ufldl.stanford.edu:80.\n",
            "HTTP request sent, awaiting response... 416 Requested Range Not Satisfiable\n",
            "\n",
            "    The file is already fully retrieved; nothing to do.\n",
            "\n"
          ],
          "name": "stdout"
        }
      ]
    },
    {
      "cell_type": "code",
      "metadata": {
        "colab_type": "code",
        "id": "-afwWw-Q85vD",
        "colab": {}
      },
      "source": [
        "from collections import namedtuple\n",
        "\n",
        "import matplotlib.pyplot as plt\n",
        "import numpy as np\n",
        "import PIL\n",
        "import torch\n",
        "import torch.nn as nn\n",
        "import torch.optim as optim\n",
        "import torchvision.datasets as dset\n",
        "from torch.utils.data.sampler import SubsetRandomSampler\n",
        "\n",
        "from torchvision import transforms"
      ],
      "execution_count": 11,
      "outputs": []
    },
    {
      "cell_type": "code",
      "metadata": {
        "colab_type": "code",
        "id": "NNU-OD9O9ltP",
        "colab": {}
      },
      "source": [
        "device = torch.device(\"cuda:0\") # Let's make sure GPU is available!"
      ],
      "execution_count": 12,
      "outputs": []
    },
    {
      "cell_type": "markdown",
      "metadata": {
        "id": "PYSN_vK8DIuj",
        "colab_type": "text"
      },
      "source": [
        "# Загружаем данные"
      ]
    },
    {
      "cell_type": "code",
      "metadata": {
        "colab_type": "code",
        "id": "YAvkoRx-9FsP",
        "colab": {}
      },
      "source": [
        "# First, lets load the dataset\n",
        "data_train = dset.SVHN('./', \n",
        "                       transform=transforms.Compose([\n",
        "                           transforms.ToTensor(),\n",
        "                           transforms.Normalize(mean=[0.43,0.44,0.47],\n",
        "                                               std=[0.20,0.20,0.20])                           \n",
        "                       ])\n",
        "                      )\n",
        "data_test = dset.SVHN('./', split='test', transform=transforms.Compose([\n",
        "                           transforms.ToTensor(),\n",
        "                           transforms.Normalize(mean=[0.43,0.44,0.47],\n",
        "                                               std=[0.20,0.20,0.20])                           \n",
        "                       ]))"
      ],
      "execution_count": 13,
      "outputs": []
    },
    {
      "cell_type": "markdown",
      "metadata": {
        "id": "tRwN0T5NDIuq",
        "colab_type": "text"
      },
      "source": [
        "Разделяем данные на training и validation.\n",
        "\n",
        "На всякий случай для подробностей - https://pytorch.org/tutorials/beginner/data_loading_tutorial.html"
      ]
    },
    {
      "cell_type": "code",
      "metadata": {
        "colab_type": "code",
        "id": "YRnr8CPg7Hli",
        "colab": {}
      },
      "source": [
        "batch_size = 64\n",
        "\n",
        "data_size = data_train.data.shape[0]\n",
        "validation_split = .2\n",
        "split = int(np.floor(validation_split * data_size))\n",
        "indices = list(range(data_size))\n",
        "np.random.shuffle(indices)\n",
        "\n",
        "train_indices, val_indices = indices[split:], indices[:split]\n",
        "\n",
        "train_sampler = SubsetRandomSampler(train_indices)\n",
        "val_sampler = SubsetRandomSampler(val_indices)\n",
        "\n",
        "train_loader = torch.utils.data.DataLoader(data_train, batch_size=batch_size, \n",
        "                                           sampler=train_sampler)\n",
        "val_loader = torch.utils.data.DataLoader(data_train, batch_size=batch_size,\n",
        "                                         sampler=val_sampler)"
      ],
      "execution_count": 14,
      "outputs": []
    },
    {
      "cell_type": "code",
      "metadata": {
        "colab_type": "code",
        "id": "LyYvt-T67PBG",
        "colab": {}
      },
      "source": [
        "# We'll use a special helper module to shape it into a flat tensor\n",
        "class Flattener(nn.Module):\n",
        "    def forward(self, x):\n",
        "        batch_size, *_ = x.shape\n",
        "        return x.view(batch_size, -1)"
      ],
      "execution_count": 15,
      "outputs": []
    },
    {
      "cell_type": "markdown",
      "metadata": {
        "id": "YiSKFWNjDIu4",
        "colab_type": "text"
      },
      "source": [
        "Создадим простейшую сеть с новыми слоями:  \n",
        "Convolutional - `nn.Conv2d`  \n",
        "MaxPool - `nn.MaxPool2d`"
      ]
    },
    {
      "cell_type": "code",
      "metadata": {
        "colab_type": "code",
        "id": "w9SFVGZP7SQd",
        "colab": {}
      },
      "source": [
        "nn_model = nn.Sequential(\n",
        "            nn.Conv2d(3, 64, 3, padding=1),\n",
        "            nn.ReLU(inplace=True),\n",
        "            nn.MaxPool2d(4),\n",
        "            nn.Conv2d(64, 64, 3, padding=1),\n",
        "            nn.ReLU(inplace=True),\n",
        "            nn.MaxPool2d(4),    \n",
        "            Flattener(),\n",
        "            nn.Linear(64*2*2, 10),\n",
        "          )\n",
        "\n",
        "nn_model.type(torch.cuda.FloatTensor)\n",
        "nn_model.to(device)\n",
        "\n",
        "loss = nn.CrossEntropyLoss().type(torch.cuda.FloatTensor)\n",
        "optimizer = optim.SGD(nn_model.parameters(), lr=1e-1, weight_decay=1e-4)"
      ],
      "execution_count": 16,
      "outputs": []
    },
    {
      "cell_type": "markdown",
      "metadata": {
        "id": "FvvztAcyDIu_",
        "colab_type": "text"
      },
      "source": [
        "Восстановите функцию `compute_accuracy` из прошлого задания.  \n",
        "Единственное отличие в новом - она должна передать данные на GPU прежде чем прогонять через модель. Сделайте это так же, как это делает функция `train_model`"
      ]
    },
    {
      "cell_type": "code",
      "metadata": {
        "colab_type": "code",
        "id": "2ek3KVQK7hJ6",
        "colab": {}
      },
      "source": [
        "def train_model(model, train_loader, val_loader, loss, optimizer, num_epochs, annealing_coef=None, annealing_epoch=None):    \n",
        "    loss_history = []\n",
        "    train_history = []\n",
        "    val_history = []\n",
        "    for epoch in range(num_epochs):\n",
        "        model.train() # Enter train mode\n",
        "        \n",
        "        loss_accum = 0\n",
        "        correct_samples = 0\n",
        "        total_samples = 0\n",
        "        for i_step, (x, y) in enumerate(train_loader):\n",
        "          \n",
        "            x_gpu = x.to(device)\n",
        "            y_gpu = y.to(device)\n",
        "            prediction = model(x_gpu)    \n",
        "            loss_value = loss(prediction, y_gpu)\n",
        "            optimizer.zero_grad()\n",
        "            loss_value.backward()\n",
        "            optimizer.step()\n",
        "            \n",
        "            _, indices = torch.max(prediction, 1)\n",
        "            correct_samples += torch.sum(indices == y_gpu)\n",
        "            total_samples += y.shape[0]\n",
        "            \n",
        "            loss_accum += loss_value\n",
        "\n",
        "        ave_loss = loss_accum / i_step\n",
        "        train_accuracy = float(correct_samples) / total_samples\n",
        "        val_accuracy = compute_accuracy(model, val_loader)\n",
        "        \n",
        "        if epoch == annealing_epoch:\n",
        "          optimizer.param_groups[0][\"lr\"] *= annealing_coef\n",
        "\n",
        "        loss_history.append(float(ave_loss))\n",
        "        train_history.append(train_accuracy)\n",
        "        val_history.append(val_accuracy)\n",
        "        \n",
        "        print(\"Average loss: %f, Train accuracy: %f, Val accuracy: %f\" % (ave_loss, train_accuracy, val_accuracy))\n",
        "        \n",
        "    return loss_history, train_history, val_history\n",
        "        \n",
        "def compute_accuracy(model, loader):\n",
        "    \"\"\"\n",
        "    Computes accuracy on the dataset wrapped in a loader\n",
        "    \n",
        "    Returns: accuracy as a float value between 0 and 1\n",
        "    \"\"\"\n",
        "    model.eval() # Evaluation mode\n",
        "    correct_samples = 0\n",
        "    total_samples = 0\n",
        "    for i_step, (x, y) in enumerate(loader):\n",
        "          \n",
        "            x_gpu = x.to(device)\n",
        "            y_gpu = y.to(device)\n",
        "            prediction = model(x_gpu) \n",
        "\n",
        "            _, indices = torch.max(prediction, 1) \n",
        "            correct_samples += torch.sum(indices == y_gpu)\n",
        "            total_samples += y.shape[0]  \n",
        "    \n",
        "    return float(correct_samples) / total_samples\n",
        "\n",
        "#loss_history, train_history, val_history = train_model(nn_model, train_loader, val_loader, loss, optimizer, 5)"
      ],
      "execution_count": 39,
      "outputs": []
    },
    {
      "cell_type": "markdown",
      "metadata": {
        "colab_type": "text",
        "id": "6a-3a1ZFGEw_"
      },
      "source": [
        "# Аугментация данных (Data augmentation)\n",
        "\n",
        "В работе с изображениями одним из особенно важных методов является аугментация данных - то есть, генерация дополнительных данных для тренировки на основе изначальных.   \n",
        "Таким образом, мы получаем возможность \"увеличить\" набор данных для тренировки, что ведет к лучшей работе сети.\n",
        "Важно, чтобы аугментированные данные были похожи на те, которые могут встретиться в реальной жизни, иначе польза от аугментаций уменьшается и может ухудшить работу сети.\n",
        "\n",
        "С PyTorch идут несколько таких алгоритмов, называемых `transforms`. Более подробно про них можно прочитать тут -\n",
        "https://pytorch.org/tutorials/beginner/data_loading_tutorial.html#transforms\n",
        "\n",
        "Ниже мы используем следующие алгоритмы генерации:\n",
        "- ColorJitter - случайное изменение цвета\n",
        "- RandomHorizontalFlip - горизонтальное отражение с вероятностью 50%\n",
        "- RandomVerticalFlip - вертикальное отражение с вероятностью 50%\n",
        "- RandomRotation - случайный поворот"
      ]
    },
    {
      "cell_type": "code",
      "metadata": {
        "colab_type": "code",
        "id": "jCWMUWmr7t5g",
        "colab": {}
      },
      "source": [
        "tfs = transforms.Compose([\n",
        "    transforms.ColorJitter(hue=.50, saturation=.50),\n",
        "    transforms.RandomHorizontalFlip(),\n",
        "    transforms.RandomVerticalFlip(),\n",
        "    transforms.RandomRotation(50, resample=PIL.Image.BILINEAR),\n",
        "    transforms.ToTensor(),\n",
        "    transforms.Normalize(mean=[0.43,0.44,0.47],\n",
        "                       std=[0.20,0.20,0.20])                           \n",
        "])\n",
        "\n",
        "# Create augmented train dataset\n",
        "data_aug_train = dset.SVHN('./', \n",
        "                       transform=tfs\n",
        "                      )\n",
        "\n",
        "train_aug_loader = torch.utils.data.DataLoader(data_aug_train, batch_size=batch_size, \n",
        "                                           sampler=train_sampler)"
      ],
      "execution_count": 18,
      "outputs": []
    },
    {
      "cell_type": "markdown",
      "metadata": {
        "id": "OHl0AWBGDIvI",
        "colab_type": "text"
      },
      "source": [
        "Визуализируем результаты агментации (вообще, смотреть на сгенерированные данные всегда очень полезно)."
      ]
    },
    {
      "cell_type": "code",
      "metadata": {
        "colab_type": "code",
        "id": "YlJJEro1KZ45",
        "colab": {
          "base_uri": "https://localhost:8080/",
          "height": 155
        },
        "outputId": "e23dc134-b862-4ccd-e11b-36417af8558c"
      },
      "source": [
        "# TODO: Visualize some augmented images!\n",
        "# hint: you can create new datasets and loaders to accomplish this\n",
        "\n",
        "# Based on the visualizations, should we keep all the augmentations?\n",
        "\n",
        "tfs = transforms.Compose([\n",
        "    transforms.ColorJitter(hue=.30, saturation=.20, brightness=.33),\n",
        "    transforms.RandomRotation(5, resample=PIL.Image.BILINEAR),\n",
        "    transforms.RandomGrayscale(0.3),\n",
        "])\n",
        "\n",
        "data_aug_vis = dset.SVHN('./', \n",
        "                       transform=tfs\n",
        "                      )\n",
        "\n",
        "plt.figure(figsize=(30, 3))\n",
        "\n",
        "for i, (x, y) in enumerate(data_aug_vis):\n",
        "    if i == 10:\n",
        "        break\n",
        "    plt.subplot(1, 10, i+1)\n",
        "    plt.grid(False)\n",
        "    plt.imshow(x)\n",
        "    plt.axis('off')"
      ],
      "execution_count": 19,
      "outputs": [
        {
          "output_type": "display_data",
          "data": {
            "image/png": "[encoded data removed]",
            "text/plain": [
              "<Figure size 2160x216 with 10 Axes>"
            ]
          },
          "metadata": {
            "tags": [],
            "needs_background": "light"
          }
        }
      ]
    },
    {
      "cell_type": "markdown",
      "metadata": {
        "colab_type": "text",
        "id": "o2LrmsYHoguB"
      },
      "source": [
        "Все ли агментации одинаково полезны на этом наборе данных? Могут ли быть среди них те, которые собьют модель с толку?\n",
        "\n",
        "Выберите из них только корректные"
      ]
    },
    {
      "cell_type": "code",
      "metadata": {
        "colab_type": "code",
        "id": "evro9ksXGs9u",
        "colab": {}
      },
      "source": [
        "# TODO: \n",
        "tfs = transforms.Compose([\n",
        "    # TODO: Add good augmentations\n",
        "    transforms.ColorJitter(hue=.20, saturation=.20),\n",
        "    transforms.RandomRotation(10, resample=PIL.Image.BILINEAR),\n",
        "    #transforms.RandomGrayscale(0.3),\n",
        "    transforms.ToTensor(),\n",
        "    transforms.Normalize(mean=[0.43,0.44,0.47],\n",
        "                       std=[0.20,0.20,0.20])                           \n",
        "])\n",
        "\n",
        "# TODO create new instances of loaders with the augmentations you chose\n",
        "dataset = dset.SVHN(\"./\", transform=tfs)\n",
        "train_aug_loader = torch.utils.data.DataLoader(dataset, batch_size=batch_size, \n",
        "                                           sampler=train_sampler)"
      ],
      "execution_count": 20,
      "outputs": []
    },
    {
      "cell_type": "code",
      "metadata": {
        "colab_type": "code",
        "id": "PeO6Zw0DHqPR",
        "colab": {
          "base_uri": "https://localhost:8080/",
          "height": 102
        },
        "outputId": "39f10d4a-ac84-4e95-da04-a2f89e13dda8"
      },
      "source": [
        "# Finally, let's train with augmentations!\n",
        "\n",
        "# Note we shouldn't use augmentations on validation\n",
        "\n",
        "loss_history, train_history, val_history = train_model(nn_model, train_aug_loader, val_loader, loss, optimizer, 5)"
      ],
      "execution_count": 14,
      "outputs": [
        {
          "output_type": "stream",
          "text": [
            "Average loss: 1.587750, Train accuracy: 0.455158, Val accuracy: 0.656883\n",
            "Average loss: 0.801078, Train accuracy: 0.749548, Val accuracy: 0.796123\n",
            "Average loss: 0.690185, Train accuracy: 0.789117, Val accuracy: 0.818169\n",
            "Average loss: 0.640920, Train accuracy: 0.803024, Val accuracy: 0.793461\n",
            "Average loss: 0.602854, Train accuracy: 0.817374, Val accuracy: 0.832503\n"
          ],
          "name": "stdout"
        }
      ]
    },
    {
      "cell_type": "markdown",
      "metadata": {
        "colab_type": "text",
        "id": "r0bcioK6JBDK"
      },
      "source": [
        "# LeNet\n",
        "Попробуем имплементировать классическую архитектуру сверточной нейронной сети, предложенную Яном ЛеКуном в 1998 году. В свое время она достигла впечатляющих результатов на MNIST, посмотрим как она справится с SVHN?\n",
        "Она описана в статье [\"Gradient Based Learning Applied to Document Recognition\"](http://yann.lecun.com/exdb/publis/pdf/lecun-01a.pdf), попробуйте прочитать ключевые части и имплементировать предложенную архитетуру на PyTorch.\n",
        "\n",
        "Реализовывать слои и функцию ошибки LeNet, которых нет в PyTorch, **не нужно** - просто возьмите их размеры и переведите в уже известные нам Convolutional, Pooling и Fully Connected layers.\n",
        "\n",
        "Если в статье не очень понятно, можно просто погуглить LeNet и разобраться в деталях :)"
      ]
    },
    {
      "cell_type": "code",
      "metadata": {
        "colab_type": "code",
        "id": "ieEzZUglJAUB",
        "colab": {}
      },
      "source": [
        "# TODO: Implement LeNet-like architecture for SVHN task\n",
        "lenet_model = nn.Sequential(\n",
        "    nn.Conv2d(3, 6, 5),\n",
        "    nn.Tanh(),\n",
        "    nn.AvgPool2d(2),\n",
        "    nn.Conv2d(6, 16, 5),\n",
        "    nn.Tanh(),\n",
        "    nn.AvgPool2d(2),    \n",
        "    Flattener(),\n",
        "    nn.Linear(16*5*5, 120),\n",
        "    nn.Tanh(),\n",
        "    nn.Linear(120, 84), \n",
        "    nn.Tanh(),\n",
        "    nn.Linear(84, 10)\n",
        ")\n",
        "\n",
        "lenet_model.type(torch.cuda.FloatTensor)\n",
        "lenet_model.to(device)\n",
        "\n",
        "loss = nn.CrossEntropyLoss().type(torch.cuda.FloatTensor)\n",
        "optimizer = optim.SGD(lenet_model.parameters(), lr=1e-1, weight_decay=1e-4)"
      ],
      "execution_count": 21,
      "outputs": []
    },
    {
      "cell_type": "code",
      "metadata": {
        "colab_type": "code",
        "id": "WMmaPfdeKk9H",
        "colab": {
          "base_uri": "https://localhost:8080/",
          "height": 187
        },
        "outputId": "32d5baaf-9748-49b4-b6f0-e47304346bf7"
      },
      "source": [
        "# Let's train it!\n",
        "loss_history, train_history, val_history = train_model(lenet_model, train_aug_loader, val_loader, loss, optimizer, 10)"
      ],
      "execution_count": 16,
      "outputs": [
        {
          "output_type": "stream",
          "text": [
            "Average loss: 2.044663, Train accuracy: 0.284988, Val accuracy: 0.623302\n",
            "Average loss: 0.771493, Train accuracy: 0.762089, Val accuracy: 0.815712\n",
            "Average loss: 0.563853, Train accuracy: 0.827475, Val accuracy: 0.844925\n",
            "Average loss: 0.490627, Train accuracy: 0.849572, Val accuracy: 0.859600\n",
            "Average loss: 0.447090, Train accuracy: 0.862437, Val accuracy: 0.867040\n",
            "Average loss: 0.417394, Train accuracy: 0.872180, Val accuracy: 0.872432\n",
            "Average loss: 0.394581, Train accuracy: 0.877743, Val accuracy: 0.880076\n",
            "Average loss: 0.375128, Train accuracy: 0.884329, Val accuracy: 0.882875\n",
            "Average loss: 0.358857, Train accuracy: 0.889704, Val accuracy: 0.887516\n",
            "Average loss: 0.343017, Train accuracy: 0.894448, Val accuracy: 0.886015\n"
          ],
          "name": "stdout"
        }
      ]
    },
    {
      "cell_type": "markdown",
      "metadata": {
        "colab_type": "text",
        "id": "u_O9qiYySvuj"
      },
      "source": [
        "# Подбор гиперпараметров"
      ]
    },
    {
      "cell_type": "code",
      "metadata": {
        "id": "yDVK6GGS7Fcy",
        "colab_type": "code",
        "colab": {}
      },
      "source": [
        "# The key hyperparameters we're going to tune are learning speed, annealing rate and regularization\n",
        "# We also encourage you to try different optimizers as well\n",
        "\n",
        "Hyperparams = namedtuple(\"Hyperparams\", ['learning_rate', 'anneal_epochs', 'reg'])\n",
        "RunResult = namedtuple(\"RunResult\", ['model', 'train_history', 'val_history', 'final_val_accuracy'])"
      ],
      "execution_count": 22,
      "outputs": []
    },
    {
      "cell_type": "code",
      "metadata": {
        "colab_type": "code",
        "id": "i6mhfdQ9K-N3",
        "colab": {
          "base_uri": "https://localhost:8080/",
          "height": 1000
        },
        "outputId": "c79be8b7-b80a-4983-cd01-cb14cfef3484"
      },
      "source": [
        "learning_rates = [1e-3, 1e-4, 1e-5]\n",
        "anneal_coeff = 0.2\n",
        "anneal_epochs = [5, 10]\n",
        "reg = [1e-2, 1e-3, 1e-4]\n",
        "\n",
        "batch_size = 32\n",
        "epoch_num = 10\n",
        "\n",
        "# Record all the runs here\n",
        "# Key should be Hyperparams and values should be RunResult\n",
        "run_record = {} \n",
        "\n",
        "# Use grid search or random search and record all runs in run_record dictionary \n",
        "# Important: perform search in logarithmic space!\n",
        "for lr in learning_rates:\n",
        "  for anneal_epoch in anneal_epochs:\n",
        "    if anneal_epoch > epoch_num:\n",
        "      break\n",
        "    for r in reg:\n",
        "      hp = Hyperparams(lr, anneal_epoch, r)\n",
        "      # TODO: \n",
        "      tfs = transforms.Compose([\n",
        "          # TODO: Add good augmentations\n",
        "          transforms.ColorJitter(hue=.20, saturation=.20),\n",
        "          transforms.RandomRotation(10, resample=PIL.Image.BILINEAR),\n",
        "          #transforms.RandomGrayscale(0.3),\n",
        "          transforms.ToTensor(),\n",
        "          transforms.Normalize(mean=[0.43,0.44,0.47],\n",
        "                            std=[0.20,0.20,0.20])                           \n",
        "      ])\n",
        "\n",
        "      # TODO create new instances of loaders with the augmentations you chose\n",
        "      dataset = dset.SVHN(\"./\", transform=tfs)\n",
        "      train_aug_loader = torch.utils.data.DataLoader(dataset, batch_size=batch_size, \n",
        "                                                sampler=train_sampler)\n",
        "      lenet_model = nn.Sequential(\n",
        "          nn.Conv2d(3, 6, 5),\n",
        "          nn.Tanh(),\n",
        "          nn.AvgPool2d(2),\n",
        "          nn.Conv2d(6, 16, 5),\n",
        "          nn.Tanh(),\n",
        "          nn.AvgPool2d(2),    \n",
        "          Flattener(),\n",
        "          nn.Linear(16*5*5, 120),\n",
        "          nn.Tanh(),\n",
        "          nn.Linear(120, 84), \n",
        "          nn.Tanh(),\n",
        "          nn.Linear(84, 10)\n",
        "      )\n",
        "\n",
        "      lenet_model.type(torch.cuda.FloatTensor)\n",
        "      lenet_model.to(device)\n",
        "\n",
        "      loss = nn.CrossEntropyLoss().type(torch.cuda.FloatTensor)\n",
        "      optimizer = optim.Adam(lenet_model.parameters(), lr=hp.learning_rate, weight_decay=hp.reg)\n",
        "\n",
        "      \n",
        "      loss_history, train_history, val_history = train_model(lenet_model, train_aug_loader, val_loader, loss, optimizer, epoch_num, annealing_coef=anneal_coeff, annealing_epoch=anneal_epoch)\n",
        "\n",
        "      result = RunResult(lenet_model, train_history, val_history, val_history[-1])\n",
        "\n",
        "      run_record[hp] = result\n",
        "\n",
        "# TODO: Your code here!"
      ],
      "execution_count": 23,
      "outputs": [
        {
          "output_type": "stream",
          "text": [
            "Average loss: 2.235547, Train accuracy: 0.188906, Val accuracy: 0.186335\n",
            "Average loss: 2.231040, Train accuracy: 0.188616, Val accuracy: 0.187632\n",
            "Average loss: 2.229037, Train accuracy: 0.188974, Val accuracy: 0.184083\n",
            "Average loss: 2.213105, Train accuracy: 0.192250, Val accuracy: 0.239301\n",
            "Average loss: 1.437261, Train accuracy: 0.522097, Val accuracy: 0.692990\n",
            "Average loss: 0.932820, Train accuracy: 0.710542, Val accuracy: 0.760835\n",
            "Average loss: 0.761377, Train accuracy: 0.772890, Val accuracy: 0.793871\n",
            "Average loss: 0.729956, Train accuracy: 0.782667, Val accuracy: 0.796123\n",
            "Average loss: 0.714248, Train accuracy: 0.787087, Val accuracy: 0.803153\n",
            "Average loss: 0.703211, Train accuracy: 0.791131, Val accuracy: 0.810320\n",
            "Average loss: 1.324566, Train accuracy: 0.562758, Val accuracy: 0.814552\n",
            "Average loss: 0.605195, Train accuracy: 0.814763, Val accuracy: 0.841854\n",
            "Average loss: 0.522508, Train accuracy: 0.840375, Val accuracy: 0.856733\n",
            "Average loss: 0.481418, Train accuracy: 0.854708, Val accuracy: 0.869156\n",
            "Average loss: 0.458900, Train accuracy: 0.860048, Val accuracy: 0.871135\n",
            "Average loss: 0.439409, Train accuracy: 0.866942, Val accuracy: 0.873797\n",
            "Average loss: 0.347677, Train accuracy: 0.896137, Val accuracy: 0.894888\n",
            "Average loss: 0.326846, Train accuracy: 0.903901, Val accuracy: 0.895570\n",
            "Average loss: 0.319847, Train accuracy: 0.905487, Val accuracy: 0.897481\n",
            "Average loss: 0.313967, Train accuracy: 0.906682, Val accuracy: 0.898778\n",
            "Average loss: 1.246518, Train accuracy: 0.591151, Val accuracy: 0.815234\n",
            "Average loss: 0.600634, Train accuracy: 0.815923, Val accuracy: 0.846154\n",
            "Average loss: 0.511037, Train accuracy: 0.844453, Val accuracy: 0.858440\n",
            "Average loss: 0.467621, Train accuracy: 0.855970, Val accuracy: 0.869360\n",
            "Average loss: 0.435308, Train accuracy: 0.865833, Val accuracy: 0.871340\n",
            "Average loss: 0.409155, Train accuracy: 0.873511, Val accuracy: 0.875572\n",
            "Average loss: 0.329197, Train accuracy: 0.899771, Val accuracy: 0.893318\n",
            "Average loss: 0.313657, Train accuracy: 0.905095, Val accuracy: 0.894478\n",
            "Average loss: 0.301115, Train accuracy: 0.909497, Val accuracy: 0.893045\n",
            "Average loss: 0.294882, Train accuracy: 0.910043, Val accuracy: 0.894410\n",
            "Average loss: 2.239451, Train accuracy: 0.189315, Val accuracy: 0.187632\n",
            "Average loss: 2.238206, Train accuracy: 0.189605, Val accuracy: 0.187632\n",
            "Average loss: 2.237975, Train accuracy: 0.189605, Val accuracy: 0.187632\n",
            "Average loss: 2.237817, Train accuracy: 0.189605, Val accuracy: 0.187632\n",
            "Average loss: 2.237777, Train accuracy: 0.189605, Val accuracy: 0.187632\n",
            "Average loss: 2.237690, Train accuracy: 0.189605, Val accuracy: 0.187632\n",
            "Average loss: 2.237809, Train accuracy: 0.189605, Val accuracy: 0.187632\n",
            "Average loss: 2.237615, Train accuracy: 0.189605, Val accuracy: 0.187632\n",
            "Average loss: 2.237633, Train accuracy: 0.189605, Val accuracy: 0.187632\n",
            "Average loss: 2.237726, Train accuracy: 0.189605, Val accuracy: 0.187632\n",
            "Average loss: 1.229717, Train accuracy: 0.598335, Val accuracy: 0.813801\n",
            "Average loss: 0.599170, Train accuracy: 0.817544, Val accuracy: 0.840011\n",
            "Average loss: 0.515610, Train accuracy: 0.841927, Val accuracy: 0.857689\n",
            "Average loss: 0.479108, Train accuracy: 0.852285, Val accuracy: 0.867791\n",
            "Average loss: 0.454002, Train accuracy: 0.862096, Val accuracy: 0.860283\n",
            "Average loss: 0.437203, Train accuracy: 0.867488, Val accuracy: 0.880145\n",
            "Average loss: 0.426590, Train accuracy: 0.869723, Val accuracy: 0.876391\n",
            "Average loss: 0.413942, Train accuracy: 0.873835, Val accuracy: 0.878370\n",
            "Average loss: 0.407802, Train accuracy: 0.874108, Val accuracy: 0.876459\n",
            "Average loss: 0.397857, Train accuracy: 0.878613, Val accuracy: 0.884103\n",
            "Average loss: 1.243882, Train accuracy: 0.592055, Val accuracy: 0.814006\n",
            "Average loss: 0.589719, Train accuracy: 0.819319, Val accuracy: 0.850659\n",
            "Average loss: 0.496485, Train accuracy: 0.848872, Val accuracy: 0.864924\n",
            "Average loss: 0.449940, Train accuracy: 0.863256, Val accuracy: 0.871340\n",
            "Average loss: 0.424516, Train accuracy: 0.870201, Val accuracy: 0.869019\n",
            "Average loss: 0.405251, Train accuracy: 0.876002, Val accuracy: 0.877210\n",
            "Average loss: 0.383954, Train accuracy: 0.881940, Val accuracy: 0.881919\n",
            "Average loss: 0.370489, Train accuracy: 0.887196, Val accuracy: 0.879121\n",
            "Average loss: 0.360597, Train accuracy: 0.888561, Val accuracy: 0.880486\n",
            "Average loss: 0.347085, Train accuracy: 0.892383, Val accuracy: 0.878234\n",
            "Average loss: 2.235127, Train accuracy: 0.187967, Val accuracy: 0.187427\n",
            "Average loss: 2.226321, Train accuracy: 0.188667, Val accuracy: 0.185653\n",
            "Average loss: 2.225032, Train accuracy: 0.188308, Val accuracy: 0.184834\n",
            "Average loss: 2.224311, Train accuracy: 0.188052, Val accuracy: 0.185448\n",
            "Average loss: 2.223813, Train accuracy: 0.188308, Val accuracy: 0.184697\n",
            "Average loss: 2.222566, Train accuracy: 0.187950, Val accuracy: 0.185380\n",
            "Average loss: 2.221193, Train accuracy: 0.188411, Val accuracy: 0.185175\n",
            "Average loss: 2.220459, Train accuracy: 0.188052, Val accuracy: 0.185175\n",
            "Average loss: 2.220268, Train accuracy: 0.188018, Val accuracy: 0.185448\n",
            "Average loss: 2.220201, Train accuracy: 0.188274, Val accuracy: 0.185107\n",
            "Average loss: 2.222991, Train accuracy: 0.199024, Val accuracy: 0.238482\n",
            "Average loss: 2.127847, Train accuracy: 0.273419, Val accuracy: 0.366187\n",
            "Average loss: 1.556109, Train accuracy: 0.498481, Val accuracy: 0.625691\n",
            "Average loss: 1.074582, Train accuracy: 0.671945, Val accuracy: 0.728960\n",
            "Average loss: 0.847646, Train accuracy: 0.741613, Val accuracy: 0.784656\n",
            "Average loss: 0.709729, Train accuracy: 0.788127, Val accuracy: 0.813528\n",
            "Average loss: 0.637816, Train accuracy: 0.810600, Val accuracy: 0.822879\n",
            "Average loss: 0.622070, Train accuracy: 0.815241, Val accuracy: 0.827316\n",
            "Average loss: 0.608206, Train accuracy: 0.818090, Val accuracy: 0.831274\n",
            "Average loss: 0.594228, Train accuracy: 0.823909, Val accuracy: 0.833800\n",
            "Average loss: 2.212890, Train accuracy: 0.219892, Val accuracy: 0.271449\n",
            "Average loss: 1.938770, Train accuracy: 0.363359, Val accuracy: 0.544195\n",
            "Average loss: 1.214174, Train accuracy: 0.626421, Val accuracy: 0.707938\n",
            "Average loss: 0.890744, Train accuracy: 0.727400, Val accuracy: 0.776261\n",
            "Average loss: 0.723189, Train accuracy: 0.781678, Val accuracy: 0.813323\n",
            "Average loss: 0.631291, Train accuracy: 0.809934, Val accuracy: 0.835438\n",
            "Average loss: 0.577534, Train accuracy: 0.826895, Val accuracy: 0.838373\n",
            "Average loss: 0.566057, Train accuracy: 0.830717, Val accuracy: 0.841649\n",
            "Average loss: 0.556309, Train accuracy: 0.833362, Val accuracy: 0.844789\n",
            "Average loss: 0.543799, Train accuracy: 0.835989, Val accuracy: 0.847792\n",
            "Average loss: 2.238018, Train accuracy: 0.188291, Val accuracy: 0.187632\n",
            "Average loss: 2.229481, Train accuracy: 0.189349, Val accuracy: 0.186335\n",
            "Average loss: 2.225954, Train accuracy: 0.188769, Val accuracy: 0.184970\n",
            "Average loss: 2.224958, Train accuracy: 0.188889, Val accuracy: 0.185516\n",
            "Average loss: 2.224161, Train accuracy: 0.188854, Val accuracy: 0.185789\n",
            "Average loss: 2.223384, Train accuracy: 0.188206, Val accuracy: 0.185653\n",
            "Average loss: 2.222653, Train accuracy: 0.188633, Val accuracy: 0.185858\n",
            "Average loss: 2.219888, Train accuracy: 0.188786, Val accuracy: 0.185858\n",
            "Average loss: 2.216918, Train accuracy: 0.189571, Val accuracy: 0.189339\n",
            "Average loss: 2.210206, Train accuracy: 0.191499, Val accuracy: 0.192069\n",
            "Average loss: 2.223880, Train accuracy: 0.204757, Val accuracy: 0.242782\n",
            "Average loss: 2.005498, Train accuracy: 0.330990, Val accuracy: 0.496894\n",
            "Average loss: 1.291044, Train accuracy: 0.604784, Val accuracy: 0.705208\n",
            "Average loss: 0.916374, Train accuracy: 0.723322, Val accuracy: 0.772917\n",
            "Average loss: 0.738721, Train accuracy: 0.777702, Val accuracy: 0.811276\n",
            "Average loss: 0.637217, Train accuracy: 0.809934, Val accuracy: 0.831957\n",
            "Average loss: 0.577084, Train accuracy: 0.828328, Val accuracy: 0.845471\n",
            "Average loss: 0.537941, Train accuracy: 0.838958, Val accuracy: 0.852502\n",
            "Average loss: 0.508368, Train accuracy: 0.848377, Val accuracy: 0.859464\n",
            "Average loss: 0.485275, Train accuracy: 0.854247, Val accuracy: 0.865197\n",
            "Average loss: 2.216102, Train accuracy: 0.210525, Val accuracy: 0.255819\n",
            "Average loss: 2.003747, Train accuracy: 0.331297, Val accuracy: 0.490478\n",
            "Average loss: 1.324676, Train accuracy: 0.584189, Val accuracy: 0.684595\n",
            "Average loss: 0.958525, Train accuracy: 0.706941, Val accuracy: 0.754897\n",
            "Average loss: 0.775931, Train accuracy: 0.763232, Val accuracy: 0.796055\n",
            "Average loss: 0.671610, Train accuracy: 0.797188, Val accuracy: 0.819330\n",
            "Average loss: 0.608401, Train accuracy: 0.815411, Val accuracy: 0.835506\n",
            "Average loss: 0.566765, Train accuracy: 0.829130, Val accuracy: 0.843901\n",
            "Average loss: 0.533974, Train accuracy: 0.838720, Val accuracy: 0.851614\n",
            "Average loss: 0.510522, Train accuracy: 0.844726, Val accuracy: 0.855095\n",
            "Average loss: 2.274694, Train accuracy: 0.161178, Val accuracy: 0.188588\n",
            "Average loss: 2.238539, Train accuracy: 0.189315, Val accuracy: 0.187632\n",
            "Average loss: 2.234908, Train accuracy: 0.189537, Val accuracy: 0.187564\n",
            "Average loss: 2.233847, Train accuracy: 0.189588, Val accuracy: 0.187632\n",
            "Average loss: 2.233217, Train accuracy: 0.189622, Val accuracy: 0.187632\n",
            "Average loss: 2.232412, Train accuracy: 0.189605, Val accuracy: 0.187632\n",
            "Average loss: 2.231850, Train accuracy: 0.189605, Val accuracy: 0.187632\n",
            "Average loss: 2.231770, Train accuracy: 0.189605, Val accuracy: 0.187632\n",
            "Average loss: 2.231684, Train accuracy: 0.189571, Val accuracy: 0.187632\n",
            "Average loss: 2.231562, Train accuracy: 0.189605, Val accuracy: 0.187632\n",
            "Average loss: 2.268186, Train accuracy: 0.170426, Val accuracy: 0.187632\n",
            "Average loss: 2.232883, Train accuracy: 0.189656, Val accuracy: 0.188042\n",
            "Average loss: 2.227157, Train accuracy: 0.190646, Val accuracy: 0.190226\n",
            "Average loss: 2.220815, Train accuracy: 0.196021, Val accuracy: 0.200874\n",
            "Average loss: 2.213329, Train accuracy: 0.207453, Val accuracy: 0.214115\n",
            "Average loss: 2.204418, Train accuracy: 0.220404, Val accuracy: 0.225104\n",
            "Average loss: 2.199498, Train accuracy: 0.225745, Val accuracy: 0.227152\n",
            "Average loss: 2.197791, Train accuracy: 0.227775, Val accuracy: 0.229336\n",
            "Average loss: 2.196153, Train accuracy: 0.229635, Val accuracy: 0.231520\n",
            "Average loss: 2.195352, Train accuracy: 0.228919, Val accuracy: 0.233431\n",
            "Average loss: 2.265554, Train accuracy: 0.171262, Val accuracy: 0.187632\n",
            "Average loss: 2.231835, Train accuracy: 0.189588, Val accuracy: 0.187700\n",
            "Average loss: 2.225812, Train accuracy: 0.189878, Val accuracy: 0.188588\n",
            "Average loss: 2.218383, Train accuracy: 0.192335, Val accuracy: 0.198143\n",
            "Average loss: 2.210371, Train accuracy: 0.203375, Val accuracy: 0.209952\n",
            "Average loss: 2.202546, Train accuracy: 0.215916, Val accuracy: 0.221077\n",
            "Average loss: 2.197506, Train accuracy: 0.222162, Val accuracy: 0.226947\n",
            "Average loss: 2.195905, Train accuracy: 0.227280, Val accuracy: 0.229814\n",
            "Average loss: 2.194263, Train accuracy: 0.229140, Val accuracy: 0.233022\n",
            "Average loss: 2.193023, Train accuracy: 0.232502, Val accuracy: 0.235342\n",
            "Average loss: 2.276418, Train accuracy: 0.161297, Val accuracy: 0.188042\n",
            "Average loss: 2.236369, Train accuracy: 0.189622, Val accuracy: 0.187700\n",
            "Average loss: 2.232466, Train accuracy: 0.189673, Val accuracy: 0.187700\n",
            "Average loss: 2.230623, Train accuracy: 0.189690, Val accuracy: 0.188110\n",
            "Average loss: 2.228810, Train accuracy: 0.190032, Val accuracy: 0.188520\n",
            "Average loss: 2.226747, Train accuracy: 0.191056, Val accuracy: 0.189407\n",
            "Average loss: 2.224404, Train accuracy: 0.193291, Val accuracy: 0.191932\n",
            "Average loss: 2.221620, Train accuracy: 0.196072, Val accuracy: 0.199099\n",
            "Average loss: 2.218376, Train accuracy: 0.202078, Val accuracy: 0.208382\n",
            "Average loss: 2.214922, Train accuracy: 0.210712, Val accuracy: 0.210156\n",
            "Average loss: 2.261326, Train accuracy: 0.179913, Val accuracy: 0.187564\n",
            "Average loss: 2.234151, Train accuracy: 0.189895, Val accuracy: 0.188247\n",
            "Average loss: 2.229476, Train accuracy: 0.191892, Val accuracy: 0.192205\n",
            "Average loss: 2.225433, Train accuracy: 0.195748, Val accuracy: 0.195209\n",
            "Average loss: 2.220043, Train accuracy: 0.200270, Val accuracy: 0.201761\n",
            "Average loss: 2.214163, Train accuracy: 0.206020, Val accuracy: 0.211726\n",
            "Average loss: 2.207298, Train accuracy: 0.212333, Val accuracy: 0.219029\n",
            "Average loss: 2.199610, Train accuracy: 0.222008, Val accuracy: 0.230155\n",
            "Average loss: 2.191579, Train accuracy: 0.230335, Val accuracy: 0.237526\n",
            "Average loss: 2.182444, Train accuracy: 0.237262, Val accuracy: 0.248652\n",
            "Average loss: 2.264136, Train accuracy: 0.167662, Val accuracy: 0.187632\n",
            "Average loss: 2.232301, Train accuracy: 0.189605, Val accuracy: 0.187700\n",
            "Average loss: 2.228519, Train accuracy: 0.190032, Val accuracy: 0.188520\n",
            "Average loss: 2.224468, Train accuracy: 0.192352, Val accuracy: 0.193707\n",
            "Average loss: 2.218965, Train accuracy: 0.197540, Val accuracy: 0.203194\n",
            "Average loss: 2.213176, Train accuracy: 0.206805, Val accuracy: 0.212955\n",
            "Average loss: 2.206959, Train accuracy: 0.216019, Val accuracy: 0.224422\n",
            "Average loss: 2.200475, Train accuracy: 0.226547, Val accuracy: 0.231111\n",
            "Average loss: 2.194587, Train accuracy: 0.234072, Val accuracy: 0.241826\n",
            "Average loss: 2.188258, Train accuracy: 0.241136, Val accuracy: 0.245239\n"
          ],
          "name": "stdout"
        }
      ]
    },
    {
      "cell_type": "code",
      "metadata": {
        "id": "kfjDjSWD73xG",
        "colab_type": "code",
        "colab": {
          "base_uri": "https://localhost:8080/",
          "height": 197
        },
        "outputId": "6e654825-25db-4ae8-9b63-0edec2b453ef"
      },
      "source": [
        "# import json\n",
        "\n",
        "# result = None\n",
        "# with open(\"run_record.txt\", \"r+\") as f:\n",
        "#   file = f.read()\n",
        "#   result = dict(file)"
      ],
      "execution_count": 36,
      "outputs": [
        {
          "output_type": "error",
          "ename": "ValueError",
          "evalue": "ignored",
          "traceback": [
            "\u001b[0;31m---------------------------------------------------------------------------\u001b[0m",
            "\u001b[0;31mValueError\u001b[0m                                Traceback (most recent call last)",
            "\u001b[0;32m<ipython-input-36-cc3c84a80c00>\u001b[0m in \u001b[0;36m<module>\u001b[0;34m()\u001b[0m\n\u001b[1;32m      4\u001b[0m \u001b[0;32mwith\u001b[0m \u001b[0mopen\u001b[0m\u001b[0;34m(\u001b[0m\u001b[0;34m\"run_record.txt\"\u001b[0m\u001b[0;34m,\u001b[0m \u001b[0;34m\"r+\"\u001b[0m\u001b[0;34m)\u001b[0m \u001b[0;32mas\u001b[0m \u001b[0mf\u001b[0m\u001b[0;34m:\u001b[0m\u001b[0;34m\u001b[0m\u001b[0;34m\u001b[0m\u001b[0m\n\u001b[1;32m      5\u001b[0m   \u001b[0mfile\u001b[0m \u001b[0;34m=\u001b[0m \u001b[0mf\u001b[0m\u001b[0;34m.\u001b[0m\u001b[0mread\u001b[0m\u001b[0;34m(\u001b[0m\u001b[0;34m)\u001b[0m\u001b[0;34m\u001b[0m\u001b[0;34m\u001b[0m\u001b[0m\n\u001b[0;32m----> 6\u001b[0;31m   \u001b[0mresult\u001b[0m \u001b[0;34m=\u001b[0m \u001b[0mdict\u001b[0m\u001b[0;34m(\u001b[0m\u001b[0mfile\u001b[0m\u001b[0;34m)\u001b[0m\u001b[0;34m\u001b[0m\u001b[0;34m\u001b[0m\u001b[0m\n\u001b[0m",
            "\u001b[0;31mValueError\u001b[0m: dictionary update sequence element #0 has length 1; 2 is required"
          ]
        }
      ]
    },
    {
      "cell_type": "code",
      "metadata": {
        "colab_type": "code",
        "id": "Y6xExdw8JB1l",
        "colab": {
          "base_uri": "https://localhost:8080/",
          "height": 34
        },
        "outputId": "74de7979-2f88-4b18-ec99-ab8fc2dde272"
      },
      "source": [
        "best_val_accuracy = None\n",
        "best_hyperparams = None\n",
        "best_run = None\n",
        "\n",
        "for hyperparams, run_result in run_record.items():\n",
        "    if best_val_accuracy is None or best_val_accuracy < run_result.final_val_accuracy:\n",
        "        best_val_accuracy = run_result.final_val_accuracy\n",
        "        best_hyperparams = hyperparams\n",
        "        best_run = run_result\n",
        "        \n",
        "print(\"Best validation accuracy: %4.2f, best hyperparams: %s\" % (best_val_accuracy, best_hyperparams))\n",
        "        "
      ],
      "execution_count": 24,
      "outputs": [
        {
          "output_type": "stream",
          "text": [
            "Best validation accuracy: 0.90, best hyperparams: Hyperparams(learning_rate=0.001, anneal_epochs=5, reg=0.001)\n"
          ],
          "name": "stdout"
        }
      ]
    },
    {
      "cell_type": "markdown",
      "metadata": {
        "colab_type": "text",
        "id": "LOmsR0uVgtgf"
      },
      "source": [
        "# Свободное упражнение - догоним и перегоним LeNet!\n",
        "\n",
        "Попробуйте найти архитектуру и настройки тренировки, чтобы выступить лучше наших бейзлайнов.\n",
        "\n",
        "Что можно и нужно попробовать:\n",
        "- BatchNormalization (для convolution layers он в PyTorch называется [batchnorm2d](https://pytorch.org/docs/stable/nn.html#batchnorm2d))\n",
        "- Изменить количество слоев и их толщину\n",
        "- Изменять количество эпох тренировки\n",
        "- Попробовать и другие агментации"
      ]
    },
    {
      "cell_type": "code",
      "metadata": {
        "colab_type": "code",
        "id": "tSVhD747icoc",
        "colab": {
          "base_uri": "https://localhost:8080/",
          "height": 187
        },
        "outputId": "85181612-dae4-4c1d-f7b4-e0276928f2d5"
      },
      "source": [
        "tfs = transforms.Compose([\n",
        "          # TODO: Add good augmentations\n",
        "          transforms.ColorJitter(hue=.20, saturation=.20),\n",
        "          transforms.RandomRotation(10, resample=PIL.Image.BILINEAR),\n",
        "          #transforms.RandomGrayscale(0.3),\n",
        "          transforms.ToTensor(),\n",
        "          transforms.Normalize(mean=[0.43,0.44,0.47],\n",
        "                            std=[0.20,0.20,0.20])                           \n",
        "      ])\n",
        "dataset = dset.SVHN(\"./\", transform=tfs)\n",
        "train_aug_loader = torch.utils.data.DataLoader(dataset, batch_size=64, \n",
        "                                                sampler=train_sampler)\n",
        "best_model = nn.Sequential(\n",
        "    nn.Conv2d(3, 16, 3, padding=1),\n",
        "    nn.BatchNorm2d(16),\n",
        "    nn.ReLU(inplace=True),\n",
        "    nn.MaxPool2d(2),\n",
        "    nn.Conv2d(16, 64, 3, padding=1),\n",
        "    nn.BatchNorm2d(64),\n",
        "    nn.ReLU(inplace=True),\n",
        "    nn.MaxPool2d(2),\n",
        "    nn.Conv2d(64, 128, 3, padding=1),\n",
        "    nn.BatchNorm2d(128),\n",
        "    nn.MaxPool2d(2),\n",
        "    nn.Conv2d(128, 128, 3, padding=1),\n",
        "    nn.BatchNorm2d(128),\n",
        "    nn.ReLU(inplace=True),\n",
        "    Flattener(),\n",
        "    nn.Linear(128*4*4, 50),\n",
        "    nn.ReLU(inplace=True),\n",
        "    nn.Linear(50, 10)\n",
        ")\n",
        "\n",
        "best_model.type(torch.cuda.FloatTensor)\n",
        "best_model.to(device)\n",
        "\n",
        "loss = nn.CrossEntropyLoss().type(torch.cuda.FloatTensor)\n",
        "optimizer = optim.AdamW(best_model.parameters(), lr=1e-3, weight_decay=1e-3)\n",
        "\n",
        "\n",
        "loss_history, train_history, val_history = train_model(best_model, train_aug_loader, val_loader, loss, optimizer, 10)\n"
      ],
      "execution_count": 30,
      "outputs": [
        {
          "output_type": "stream",
          "text": [
            "Average loss: 0.749134, Train accuracy: 0.760178, Val accuracy: 0.874548\n",
            "Average loss: 0.393680, Train accuracy: 0.881684, Val accuracy: 0.900416\n",
            "Average loss: 0.328121, Train accuracy: 0.901990, Val accuracy: 0.909904\n",
            "Average loss: 0.285404, Train accuracy: 0.915504, Val accuracy: 0.915705\n",
            "Average loss: 0.253410, Train accuracy: 0.924632, Val accuracy: 0.915774\n",
            "Average loss: 0.230727, Train accuracy: 0.931338, Val accuracy: 0.920347\n",
            "Average loss: 0.209588, Train accuracy: 0.937873, Val accuracy: 0.920825\n",
            "Average loss: 0.191508, Train accuracy: 0.942736, Val accuracy: 0.920210\n",
            "Average loss: 0.175495, Train accuracy: 0.947446, Val accuracy: 0.926012\n",
            "Average loss: 0.160667, Train accuracy: 0.952565, Val accuracy: 0.920074\n"
          ],
          "name": "stdout"
        }
      ]
    },
    {
      "cell_type": "markdown",
      "metadata": {
        "colab_type": "text",
        "id": "ubeKgBcnhx7N"
      },
      "source": [
        "# Финальный аккорд - проверим лучшую модель на test set\n",
        "\n",
        "В качестве разнообразия - напишите код для прогона модели на test set вы.\n",
        "\n",
        "В результате вы должны натренировать модель, которая покажет более **90%** точности на test set.  \n",
        "Как водится, лучший результат в группе получит дополнительные баллы!"
      ]
    },
    {
      "cell_type": "code",
      "metadata": {
        "id": "j8fIzD52XWrI",
        "colab_type": "code",
        "colab": {}
      },
      "source": [
        ""
      ],
      "execution_count": 34,
      "outputs": []
    },
    {
      "cell_type": "code",
      "metadata": {
        "colab_type": "code",
        "id": "EIqM1kdeh-hd",
        "colab": {
          "base_uri": "https://localhost:8080/",
          "height": 34
        },
        "outputId": "81282e5e-b848-4138-a110-6bbfaa68ab4a"
      },
      "source": [
        "# TODO Write the code to compute accuracy on test set\n",
        "test_loader = torch.utils.data.DataLoader(data_test, batch_size=64)\n",
        "\n",
        "final_test_accuracy = compute_accuracy(best_model, test_loader)\n",
        "print(\"Final test accuracy - \", final_test_accuracy)"
      ],
      "execution_count": 40,
      "outputs": [
        {
          "output_type": "stream",
          "text": [
            "Final test accuracy -  0.9212507682851875\n"
          ],
          "name": "stdout"
        }
      ]
    },
    {
      "cell_type": "code",
      "metadata": {
        "colab_type": "code",
        "id": "BfH6qip6kVX_",
        "colab": {}
      },
      "source": [
        ""
      ],
      "execution_count": null,
      "outputs": []
    }
  ]
}